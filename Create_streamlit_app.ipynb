{
  "cells": [
    {
      "cell_type": "markdown",
      "metadata": {
        "id": "view-in-github",
        "colab_type": "text"
      },
      "source": [
        "<a href=\"https://colab.research.google.com/github/LuisRTobar/GrandPrix_PaisesBajos/blob/main/Create_streamlit_app.ipynb\" target=\"_parent\"><img src=\"https://colab.research.google.com/assets/colab-badge.svg\" alt=\"Open In Colab\"/></a>"
      ]
    },
    {
      "cell_type": "markdown",
      "metadata": {
        "id": "Tn_bhxnBeL7L"
      },
      "source": [
        "instalacion de Streamlit y LocalTunnel en Google Colab de forma permanente"
      ]
    },
    {
      "cell_type": "code",
      "execution_count": 1,
      "metadata": {
        "id": "GHepgN5icDmi"
      },
      "outputs": [],
      "source": [
        "!pip install -q streamlit"
      ]
    },
    {
      "cell_type": "code",
      "execution_count": 5,
      "metadata": {
        "colab": {
          "base_uri": "https://localhost:8080/"
        },
        "id": "Am8HoonGtn_A",
        "outputId": "874fa2f6-1d66-4edd-d95c-1f928092ede4"
      },
      "outputs": [
        {
          "output_type": "stream",
          "name": "stdout",
          "text": [
            "Overwriting app.py\n"
          ]
        }
      ],
      "source": [
        "%%writefile app.py\n",
        "from numpy import char\n",
        "import pandas as pd\n",
        "import streamlit as st\n",
        "from PIL import Image\n",
        "\n",
        "# linea de encabezado\n",
        "st.header('Graficas utilizando Pandas', divider='rainbow')\n",
        "# linea de titulo\n",
        "st.title('Resultados del Grand Prix de Países Bajos')\n",
        "\n",
        "# importando imagen\n",
        "image= Image.open('george-russell-williams-fw43b-.jpg')\n",
        "st.image(image, caption='Max Verstappen')\n",
        "\n",
        "st.text_input(\"¿Cuál es tú nombre? \", key=\"name\")\n",
        "st.session_state.name\n",
        "st.text('¡Hola !'+st.session_state.name+' !')\n",
        "'Hola cómo estás? ', st.session_state.name\n",
        "\n",
        "# importando archivo cvs\n",
        "df = pd.read_csv('GrandPrix_PaisesBajos.csv')\n",
        "\n",
        "# mostrando DataFrame\n",
        "if st.checkbox('Mostrar dataframe'):\n",
        "  df\n",
        "\n",
        "\n",
        "option = st.selectbox(\n",
        "  'Selecciona tu corredor favorito: ',\n",
        "  df['DRIVER'])\n",
        "'Tu seleccion: ',  option\n",
        "\n",
        "# imprimiendo Fila\n",
        "df.loc[df['DRIVER'] == option]\n",
        "\n",
        "# creando grafica\n",
        "st.line_chart(\n",
        "  df,\n",
        "  x= 'AVG SPEED',\n",
        "  y = 'LAP'\n",
        ")"
      ]
    },
    {
      "cell_type": "code",
      "execution_count": 6,
      "metadata": {
        "colab": {
          "base_uri": "https://localhost:8080/"
        },
        "id": "v6s_CF2GtlTO",
        "outputId": "47dab0e7-6a1e-4431-a0db-a27d046d0727"
      },
      "outputs": [
        {
          "output_type": "stream",
          "name": "stdout",
          "text": [
            "34.139.173.220\n"
          ]
        }
      ],
      "source": [
        "! wget -q -O - ipv4.icanhazip.com"
      ]
    },
    {
      "cell_type": "code",
      "execution_count": null,
      "metadata": {
        "colab": {
          "base_uri": "https://localhost:8080/"
        },
        "id": "ziYkhqtvtqUT",
        "outputId": "6727aa0e-4a7d-48c6-f306-6700488b455a"
      },
      "outputs": [
        {
          "output_type": "stream",
          "name": "stdout",
          "text": [
            "[..................] \\ fetchMetadata: sill resolveWithNewModule localtunnel@2.0\u001b[0m\u001b[K\n",
            "Collecting usage statistics. To deactivate, set browser.gatherUsageStats to False.\n",
            "\u001b[0m\n",
            "\u001b[0m\n",
            "\u001b[34m\u001b[1m  You can now view your Streamlit app in your browser.\u001b[0m\n",
            "\u001b[0m\n",
            "\u001b[34m  Network URL: \u001b[0m\u001b[1mhttp://172.28.0.12:8501\u001b[0m\n",
            "\u001b[34m  External URL: \u001b[0m\u001b[1mhttp://34.139.173.220:8501\u001b[0m\n",
            "\u001b[0m\n",
            "\u001b[K\u001b[?25hnpx: installed 22 in 2.556s\n",
            "your url is: https://full-cameras-write.loca.lt\n",
            "2024-01-13 03:32:20.114 Session with id fa38c1e6-276e-4b3d-9d7b-474da7d7e91e is already connected! Connecting to a new session.\n"
          ]
        }
      ],
      "source": [
        "! streamlit run app.py & npx localtunnel --port 8501"
      ]
    }
  ],
  "metadata": {
    "colab": {
      "provenance": [],
      "authorship_tag": "ABX9TyM4d+5kyWkqw6h5fJdZ2j41",
      "include_colab_link": true
    },
    "kernelspec": {
      "display_name": "Python 3",
      "name": "python3"
    },
    "language_info": {
      "name": "python"
    }
  },
  "nbformat": 4,
  "nbformat_minor": 0
}